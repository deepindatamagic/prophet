{
  "cells": [
    {
      "cell_type": "code",
      "execution_count": null,
      "metadata": {
        "id": "qUwe8xAoce6y"
      },
      "outputs": [],
      "source": [
        "from fbprophet import Prophet\n"
      ]
    },
    {
      "cell_type": "code",
      "execution_count": null,
      "metadata": {
        "id": "0kyRPoAObtmC"
      },
      "outputs": [],
      "source": [
        "import urllib.request\n",
        "import pandas as pd\n",
        "import json\n",
        "import requests\n",
        "import datetime as dt\n",
        "import plotly.express as px"
      ]
    },
    {
      "cell_type": "markdown",
      "metadata": {
        "id": "safTBPyTcsyo"
      },
      "source": [
        "**Alphavantage API Endpoint**\n",
        "\n",
        "* Documentation: https://www.alphavantage.co/documentation/\n",
        "\n"
      ]
    },
    {
      "cell_type": "code",
      "execution_count": null,
      "metadata": {
        "id": "1XsbigS1b4pL"
      },
      "outputs": [],
      "source": [
        "base_url = 'https://www.alphavantage.co/query?'"
      ]
    },
    {
      "cell_type": "markdown",
      "metadata": {
        "id": "cgcD5IExc9lC"
      },
      "source": [
        "**The Parameters (According to Documentation)**\n",
        "\n",
        "What you will also need: to signup to Alphavantage and get your API key and paste the API key where it says 'YOUR_API_KEY'"
      ]
    },
    {
      "cell_type": "markdown",
      "metadata": {},
      "source": [
        "This code asks for the stock price of Google (with ticker symbol: GOOGL)"
      ]
    },
    {
      "cell_type": "code",
      "execution_count": null,
      "metadata": {
        "id": "rDwHlmx6b793"
      },
      "outputs": [],
      "source": [
        "# parameters\n",
        "params = {\n",
        "    'function': 'TIME_SERIES_DAILY',\n",
        "    'symbol': 'GOOGL',\n",
        "    'apikey': 'YOUR_API_KEY'\n",
        "}"
      ]
    },
    {
      "cell_type": "markdown",
      "metadata": {
        "id": "XB_CTsKwdFh7"
      },
      "source": [
        "**Get Data and Store the Response**"
      ]
    },
    {
      "cell_type": "code",
      "execution_count": null,
      "metadata": {
        "id": "T-YXfvM_b9tV"
      },
      "outputs": [],
      "source": [
        "response = requests.get(base_url, params=params)"
      ]
    },
    {
      "cell_type": "markdown",
      "metadata": {
        "id": "tos8MEDKdQld"
      },
      "source": [
        "**Examine JSON Datastructure in Response**"
      ]
    },
    {
      "cell_type": "code",
      "execution_count": null,
      "metadata": {
        "colab": {
          "base_uri": "https://localhost:8080/"
        },
        "id": "xbbOq_wBb_de",
        "outputId": "3247b4e0-4a96-4bfc-b56a-9e8a023ac553"
      },
      "outputs": [],
      "source": [
        "print(response.json())"
      ]
    },
    {
      "cell_type": "markdown",
      "metadata": {
        "id": "bdL1Q8wJdU_Z"
      },
      "source": [
        "**Stock Prices**\n",
        "\n",
        "* In this part of the JSON: 'Time Series (Daily)':"
      ]
    },
    {
      "cell_type": "code",
      "execution_count": null,
      "metadata": {
        "id": "QHWpPr6HcBLB"
      },
      "outputs": [],
      "source": [
        "data = response.json()"
      ]
    },
    {
      "cell_type": "markdown",
      "metadata": {},
      "source": [
        "Save the JSON file with filename 'data.json'\n",
        "\n",
        "Notes: that location of where to save the file must be included. For example, '/content/drive/MyDrive/Datasets/data.json' saves 'data.json' in Google Drive with folder '/content/drive/MyDrive/Datasets/'"
      ]
    },
    {
      "cell_type": "code",
      "execution_count": null,
      "metadata": {
        "id": "j_5T6AbocC-f"
      },
      "outputs": [],
      "source": [
        "with open('/content/drive/MyDrive/Datasets/data.json', 'w', encoding='utf-8') as f:\n",
        "    json.dump(data, f, ensure_ascii=False, indent=4)"
      ]
    },
    {
      "cell_type": "markdown",
      "metadata": {
        "id": "yQugJAXxdgVK"
      },
      "source": [
        "**Get that part of the JSON**"
      ]
    },
    {
      "cell_type": "code",
      "execution_count": null,
      "metadata": {
        "id": "qWysOSmKcEva"
      },
      "outputs": [],
      "source": [
        "data = data['Time Series (Daily)']"
      ]
    },
    {
      "cell_type": "markdown",
      "metadata": {},
      "source": [
        "Display the data:"
      ]
    },
    {
      "cell_type": "code",
      "execution_count": null,
      "metadata": {},
      "outputs": [],
      "source": [
        "print(data)"
      ]
    },
    {
      "cell_type": "markdown",
      "metadata": {},
      "source": [
        "* Create a Pandas Dataframe to store data as rows (for each Date) and columns (Date, Open, High, Low and Close)\n",
        "* Iterate through the JSON file (data structure) and create each row of data for the dataframe"
      ]
    },
    {
      "cell_type": "code",
      "execution_count": null,
      "metadata": {
        "id": "dB6BnsubcHLm"
      },
      "outputs": [],
      "source": [
        "# stores as pandas datafrome\n",
        "df = pd.DataFrame(columns=['Date', 'Open', 'High', 'Low', 'Close'])\n",
        "\n",
        "for key, val in data.items():\n",
        "    date = dt.datetime.strptime(key, '%Y-%m-%d')\n",
        "    data_rows = [date.date(), float(\n",
        "        val['1. open']), float(val['2. high']),\n",
        "        float(val['3. low']), float(val['4. close'])]\n",
        "\n",
        "    df.loc[-1, :] = data_rows\n",
        "    df.index += 1"
      ]
    },
    {
      "cell_type": "markdown",
      "metadata": {
        "id": "GiUrq5dJcXJ-"
      },
      "source": [
        "**Save File**\n",
        "\n",
        "* specify where the file should be saved\n",
        "* note that the file is saved as a CSV"
      ]
    },
    {
      "cell_type": "code",
      "execution_count": null,
      "metadata": {
        "id": "ja5cjPIlcJat"
      },
      "outputs": [],
      "source": [
        "df.to_csv('/content/drive/MyDrive/Datasets/stocks.csv')  "
      ]
    },
    {
      "cell_type": "markdown",
      "metadata": {
        "id": "U5w0w1mveSUq"
      },
      "source": [
        "**Forecasting with Prophet**\n",
        "\n",
        "* https://facebook.github.io/prophet/docs/quick_start.html"
      ]
    },
    {
      "cell_type": "markdown",
      "metadata": {},
      "source": [
        "Read the CSV file called stocks.csv as a Pandas Dataframe."
      ]
    },
    {
      "cell_type": "code",
      "execution_count": null,
      "metadata": {
        "id": "N0FDkdJieR1A"
      },
      "outputs": [],
      "source": [
        "df = pd.read_csv('/content/drive/MyDrive/Datasets/stocks.csv')"
      ]
    },
    {
      "cell_type": "markdown",
      "metadata": {},
      "source": [
        "* Inspect the first 10 rows of the csv data"
      ]
    },
    {
      "cell_type": "code",
      "execution_count": null,
      "metadata": {
        "colab": {
          "base_uri": "https://localhost:8080/",
          "height": 359
        },
        "id": "yimD-6TGe24x",
        "outputId": "472cf025-93a5-4820-d121-e5023b086e9c"
      },
      "outputs": [],
      "source": [
        "df.head(10)"
      ]
    },
    {
      "cell_type": "markdown",
      "metadata": {},
      "source": [
        "* Sorting by the date"
      ]
    },
    {
      "cell_type": "code",
      "execution_count": null,
      "metadata": {
        "colab": {
          "base_uri": "https://localhost:8080/",
          "height": 419
        },
        "id": "E1LwM1XHIQK7",
        "outputId": "4aa763f8-0285-45f0-b1ee-3227a1e4fd01"
      },
      "outputs": [],
      "source": [
        "df.sort_values(by='Date')"
      ]
    },
    {
      "cell_type": "markdown",
      "metadata": {},
      "source": [
        "* Obtain the Date and Open stock prices (note that it can be High, Low or Close)\n",
        "* This is the data that to be used for forecasting i.e. the Open prices of stocks"
      ]
    },
    {
      "cell_type": "code",
      "execution_count": null,
      "metadata": {
        "id": "rsEJFl1Se7TK"
      },
      "outputs": [],
      "source": [
        "data_forecast = df[['Date','Open']]"
      ]
    },
    {
      "cell_type": "markdown",
      "metadata": {},
      "source": [
        "* Show the  data  for the Date and Open stock prices"
      ]
    },
    {
      "cell_type": "code",
      "execution_count": null,
      "metadata": {
        "colab": {
          "base_uri": "https://localhost:8080/",
          "height": 419
        },
        "id": "cQlnQgN3fccu",
        "outputId": "eb60e339-e49f-491c-da56-7b82075392e2"
      },
      "outputs": [],
      "source": [
        "print(data_forecast)"
      ]
    },
    {
      "cell_type": "markdown",
      "metadata": {},
      "source": [
        "*  Sorting by the date"
      ]
    },
    {
      "cell_type": "code",
      "execution_count": null,
      "metadata": {
        "colab": {
          "base_uri": "https://localhost:8080/",
          "height": 419
        },
        "id": "AFfbpjPeItLO",
        "outputId": "4ab86936-e08d-4ea2-add5-537874b331b7"
      },
      "outputs": [],
      "source": [
        "data_forecast.sort_values(by='Date')"
      ]
    },
    {
      "cell_type": "markdown",
      "metadata": {},
      "source": [
        "Facebook's Prophet algorithm requires that the columns have names 'ds', and 'y'\n",
        "* ds: this will be the date\n",
        "* y: this is the Open stock price\n",
        "\n",
        "The 'Date' and 'Open' columns will be renamed to fit with the algorithm's conventions"
      ]
    },
    {
      "cell_type": "code",
      "execution_count": null,
      "metadata": {
        "colab": {
          "base_uri": "https://localhost:8080/"
        },
        "id": "JvVTR5BjffUO",
        "outputId": "b6ad489e-f4de-4de7-dadf-c6ac5f0f34da"
      },
      "outputs": [],
      "source": [
        "data_forecast.rename(columns={'Date':'ds', 'Open':'y'}, inplace=True)"
      ]
    },
    {
      "cell_type": "code",
      "execution_count": null,
      "metadata": {
        "colab": {
          "base_uri": "https://localhost:8080/",
          "height": 419
        },
        "id": "1TQNCcqXgHU5",
        "outputId": "c48d3108-ff29-4dad-ab5f-2fd35ac258f9"
      },
      "outputs": [],
      "source": [
        "print(data_forecast)"
      ]
    },
    {
      "cell_type": "markdown",
      "metadata": {},
      "source": [
        "* Sort by date (now called 'ds')"
      ]
    },
    {
      "cell_type": "code",
      "execution_count": null,
      "metadata": {
        "colab": {
          "base_uri": "https://localhost:8080/"
        },
        "id": "G56q6PpsI3Qf",
        "outputId": "70be4a8c-3a79-4aa8-9043-ac35ddd7ef4c"
      },
      "outputs": [],
      "source": [
        "data_forecast.sort_values(by='ds', inplace=True)"
      ]
    },
    {
      "cell_type": "markdown",
      "metadata": {},
      "source": [
        "Create the Prophet model and use it to fit the data"
      ]
    },
    {
      "cell_type": "code",
      "execution_count": null,
      "metadata": {
        "colab": {
          "base_uri": "https://localhost:8080/"
        },
        "id": "_uUD-Nexf16l",
        "outputId": "f285450b-159b-42d7-97b0-b7fd3f0f7387"
      },
      "outputs": [],
      "source": [
        "# create the model for Prophet\n",
        "model = Prophet()"
      ]
    },
    {
      "cell_type": "code",
      "execution_count": null,
      "metadata": {},
      "outputs": [],
      "source": [
        "# use the created Prophet model to fit (learn) the data\n",
        "model.fit(data_forecast)"
      ]
    },
    {
      "cell_type": "markdown",
      "metadata": {},
      "source": [
        "Specify how many days to forecast - call this the future"
      ]
    },
    {
      "cell_type": "code",
      "execution_count": null,
      "metadata": {
        "colab": {
          "base_uri": "https://localhost:8080/",
          "height": 419
        },
        "id": "nejdvwfVgWlB",
        "outputId": "9d9fda54-fa2c-4722-e232-20d5f9bc3735"
      },
      "outputs": [],
      "source": [
        "future = model.make_future_dataframe(periods=365)"
      ]
    },
    {
      "cell_type": "code",
      "execution_count": null,
      "metadata": {},
      "outputs": [],
      "source": [
        "print(future)"
      ]
    },
    {
      "cell_type": "code",
      "execution_count": null,
      "metadata": {
        "colab": {
          "base_uri": "https://localhost:8080/",
          "height": 419
        },
        "id": "NOHCRAvLggvc",
        "outputId": "0b9a993b-c752-452d-ea90-fd421ca8dad4"
      },
      "outputs": [],
      "source": [
        "# now create the forecasts into the future\n",
        "forecast = model.predict(future)"
      ]
    },
    {
      "cell_type": "markdown",
      "metadata": {},
      "source": [
        "* Display the results of the forecasts"
      ]
    },
    {
      "cell_type": "code",
      "execution_count": null,
      "metadata": {},
      "outputs": [],
      "source": [
        "forecast[['ds', 'yhat', 'yhat_lower', 'yhat_upper']]"
      ]
    },
    {
      "cell_type": "markdown",
      "metadata": {},
      "source": [
        "Save our forecasts"
      ]
    },
    {
      "cell_type": "code",
      "execution_count": null,
      "metadata": {},
      "outputs": [],
      "source": [
        "forecast.to_csv('/content/drive/MyDrive/Datasets/forecast.csv')"
      ]
    },
    {
      "cell_type": "markdown",
      "metadata": {},
      "source": [
        "Create some graphs of the forecasts"
      ]
    },
    {
      "cell_type": "code",
      "execution_count": null,
      "metadata": {
        "colab": {
          "base_uri": "https://localhost:8080/",
          "height": 441
        },
        "id": "nPMiecBJgvj9",
        "outputId": "b0e678a5-3e5d-4595-bcf3-8af7cfe3dcc8"
      },
      "outputs": [],
      "source": [
        "fig1 = model.plot(forecast)"
      ]
    },
    {
      "cell_type": "code",
      "execution_count": null,
      "metadata": {
        "colab": {
          "base_uri": "https://localhost:8080/",
          "height": 441
        },
        "id": "EdKKoiexhXJ5",
        "outputId": "cb1b2660-1604-4d0c-cda3-370d8b94b5d0"
      },
      "outputs": [],
      "source": [
        "fig2 = model.plot_components(forecast)"
      ]
    },
    {
      "cell_type": "code",
      "execution_count": null,
      "metadata": {
        "colab": {
          "base_uri": "https://localhost:8080/",
          "height": 617
        },
        "id": "op3KM0Qlhcuw",
        "outputId": "fe79795b-3b58-4aa3-d832-02023c9c9e8e"
      },
      "outputs": [],
      "source": [
        "from fbprophet.plot import plot_plotly, plot_components_plotly\n",
        "\n",
        "plot_plotly(model, forecast)"
      ]
    },
    {
      "cell_type": "code",
      "execution_count": null,
      "metadata": {
        "colab": {
          "base_uri": "https://localhost:8080/",
          "height": 417
        },
        "id": "_ljAYGdphh7e",
        "outputId": "f627c539-48c5-4902-b773-4edfb5a264db"
      },
      "outputs": [],
      "source": [
        "plot_components_plotly(model, forecast)"
      ]
    },
    {
      "cell_type": "code",
      "execution_count": null,
      "metadata": {
        "id": "Lzx8gcl0hrnV"
      },
      "outputs": [],
      "source": [
        "forecast.to_csv('/content/drive/MyDrive/Datasets/forecasts_stocks_prophet.csv')"
      ]
    }
  ],
  "metadata": {
    "colab": {
      "collapsed_sections": [],
      "name": "stocks_api_prophet_forecasts.ipynb",
      "provenance": []
    },
    "kernelspec": {
      "display_name": "Python 3.7.4 64-bit",
      "name": "python374jvsc74a57bd0aee8b7b246df8f9039afb4144a1f6fd8d2ca17a180786b69acc140d282b71a49"
    },
    "language_info": {
      "name": "python",
      "version": ""
    },
    "metadata": {
      "interpreter": {
        "hash": "aee8b7b246df8f9039afb4144a1f6fd8d2ca17a180786b69acc140d282b71a49"
      }
    }
  },
  "nbformat": 4,
  "nbformat_minor": 0
}